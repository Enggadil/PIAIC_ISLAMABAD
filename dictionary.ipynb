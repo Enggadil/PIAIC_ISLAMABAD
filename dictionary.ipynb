{
 "cells": [
  {
   "cell_type": "markdown",
   "metadata": {},
   "source": [
    "# DICTIONARY IN PYTHON"
   ]
  },
  {
   "cell_type": "markdown",
   "metadata": {},
   "source": [
    "#GROUP OF (KEY,VALUE) ,PAIRS SEPARATED WITH COMMA(,) AND ENCLOSED IN CURLY BREAKET\n"
   ]
  },
  {
   "cell_type": "code",
   "execution_count": 2,
   "metadata": {},
   "outputs": [],
   "source": [
    "DICT={\"NAME\":\"abc\",\"rno\":\"312\",\"dept\":\"se\"}\n",
    "#      key     value \n",
    "# (NAME,abc),(rno,312),(dept,se) are the item of dictionary \n"
   ]
  },
  {
   "cell_type": "code",
   "execution_count": 3,
   "metadata": {},
   "outputs": [],
   "source": [
    "# how to create a dictionary \n",
    "# empty dictionary\n",
    "dict={}"
   ]
  },
  {
   "cell_type": "raw",
   "metadata": {},
   "source": [
    "# how to create dictionary with elements \n",
    "# dict={key1:value1,key2:value2........}\n",
    "#dict={ key1:value1,\n",
    "#         key2:value2,\n",
    "#     key3:value3 }\n",
    "# by using dictionary function we also create dictionary\n",
    "#dict( [(key1:value1),(key2:value2...)])\n",
    "#we also create dictionary by using dictionary comprehension\n",
    "# we need to specify the following order\n",
    "1 expression\n",
    "2 iteration\n",
    "3 condition\n",
    "for example \n",
    "dict={ expression iteration condition}\n",
    " dict={x:x**2  for x in range(5) if x%2==0}\n",
    "    "
   ]
  },
  {
   "cell_type": "markdown",
   "metadata": {},
   "source": [
    "# how to accessing elements"
   ]
  },
  {
   "cell_type": "raw",
   "metadata": {},
   "source": [
    "with the help of keys we can acces the corresponding values\n"
   ]
  },
  {
   "cell_type": "code",
   "execution_count": 6,
   "metadata": {},
   "outputs": [
    {
     "name": "stdout",
     "output_type": "stream",
     "text": [
      "123\n"
     ]
    }
   ],
   "source": [
    "# for exmple \n",
    "dict={\"name\":\"adil\",\"rolno\":\"123\",\"dept\":\"se\"}\n",
    "dict[\"name\"]\n",
    "print(dict[\"rolno\"])"
   ]
  },
  {
   "cell_type": "code",
   "execution_count": 7,
   "metadata": {},
   "outputs": [
    {
     "data": {
      "text/plain": [
       "dict_items([('name', 'adil'), ('rolno', '123'), ('dept', 'se')])"
      ]
     },
     "execution_count": 7,
     "metadata": {},
     "output_type": "execute_result"
    }
   ],
   "source": [
    "dict.items()"
   ]
  },
  {
   "cell_type": "code",
   "execution_count": 8,
   "metadata": {},
   "outputs": [
    {
     "data": {
      "text/plain": [
       "dict_keys(['name', 'rolno', 'dept'])"
      ]
     },
     "execution_count": 8,
     "metadata": {},
     "output_type": "execute_result"
    }
   ],
   "source": [
    "dict.keys()"
   ]
  },
  {
   "cell_type": "code",
   "execution_count": 9,
   "metadata": {},
   "outputs": [
    {
     "data": {
      "text/plain": [
       "dict_values(['adil', '123', 'se'])"
      ]
     },
     "execution_count": 9,
     "metadata": {},
     "output_type": "execute_result"
    }
   ],
   "source": [
    "dict.values()"
   ]
  },
  {
   "cell_type": "code",
   "execution_count": 10,
   "metadata": {},
   "outputs": [
    {
     "data": {
      "text/plain": [
       "'adil'"
      ]
     },
     "execution_count": 10,
     "metadata": {},
     "output_type": "execute_result"
    }
   ],
   "source": [
    "d={'name':'adil',\"father_name\":\"ghulam murtaza\",\"roll_no\":\"12345\",\"branch\":\"sce\"}\n",
    "d['name']"
   ]
  },
  {
   "cell_type": "code",
   "execution_count": 11,
   "metadata": {},
   "outputs": [
    {
     "name": "stdout",
     "output_type": "stream",
     "text": [
      "{'name': 'adil', 'father_name': 'ghulam murtaza', 'roll_no': '12345', 'branch': 'sce', 'course': 'software'}\n"
     ]
    }
   ],
   "source": [
    "# how to adding  new element to dict\n",
    "# for example\n",
    "d={'name':'adil',\"father_name\":\"ghulam murtaza\",\"roll_no\":\"12345\",\"branch\":\"sce\"}\n",
    "d[\"course\"]=\"software\"\n",
    "print(d)\n"
   ]
  },
  {
   "cell_type": "code",
   "execution_count": 12,
   "metadata": {},
   "outputs": [
    {
     "name": "stdout",
     "output_type": "stream",
     "text": [
      "{'name': 'adil', 'father_name': 'ghulam murtaza', 'roll_no': '12345', 'branch': 'islamabad', 'course': 'software'}\n"
     ]
    }
   ],
   "source": [
    "# how to modify  element to dict\n",
    "# for example\n",
    "d[\"branch\"]=\"islamabad\"\n",
    "print(d)"
   ]
  },
  {
   "cell_type": "code",
   "execution_count": 13,
   "metadata": {},
   "outputs": [
    {
     "name": "stdout",
     "output_type": "stream",
     "text": [
      "{'name': 'adil', 'father_name': 'ghulam murtaza', 'roll_no': '12345', 'branch': 'islamabad'}\n"
     ]
    }
   ],
   "source": [
    "# how to deleting  element to dict\n",
    "# for example\n",
    "del d[\"course\"]\n",
    "print(d)"
   ]
  },
  {
   "cell_type": "code",
   "execution_count": 15,
   "metadata": {},
   "outputs": [
    {
     "name": "stdout",
     "output_type": "stream",
     "text": [
      "{}\n"
     ]
    }
   ],
   "source": [
    "d.clear()\n",
    "print(d)"
   ]
  },
  {
   "cell_type": "markdown",
   "metadata": {},
   "source": [
    "# methods in dictionary\n"
   ]
  },
  {
   "cell_type": "code",
   "execution_count": 18,
   "metadata": {},
   "outputs": [
    {
     "name": "stdout",
     "output_type": "stream",
     "text": [
      "{'name': 'adil', 'roll_no': '123', 'course': 'software engineering'}\n",
      "{'name': 'adil', 'roll_no': '123', 'course': 'software engineering'}\n"
     ]
    }
   ],
   "source": [
    "# copy()\n",
    "a={ 'name':'adil',\n",
    "     'roll_no':'123',\n",
    "  'course':'software engineering'}\n",
    "print(a)\n",
    "b=a.copy()\n",
    "print(b)"
   ]
  },
  {
   "cell_type": "code",
   "execution_count": 19,
   "metadata": {},
   "outputs": [
    {
     "name": "stdout",
     "output_type": "stream",
     "text": [
      "{'name': 'adil', 'roll_no': '123', 'course': 'software engineering'}\n"
     ]
    }
   ],
   "source": [
    "# clear()\n",
    "c=a\n",
    "print(c)"
   ]
  },
  {
   "cell_type": "code",
   "execution_count": 20,
   "metadata": {},
   "outputs": [],
   "source": [
    "c.clear()"
   ]
  },
  {
   "cell_type": "code",
   "execution_count": 21,
   "metadata": {},
   "outputs": [
    {
     "name": "stdout",
     "output_type": "stream",
     "text": [
      "{}\n"
     ]
    }
   ],
   "source": [
    "print(c)"
   ]
  },
  {
   "cell_type": "code",
   "execution_count": 23,
   "metadata": {},
   "outputs": [
    {
     "data": {
      "text/plain": [
       "dict_items([('name', 'adil'), ('roll_no', '123'), ('course', 'software engineering')])"
      ]
     },
     "execution_count": 23,
     "metadata": {},
     "output_type": "execute_result"
    }
   ],
   "source": [
    "b.items()"
   ]
  },
  {
   "cell_type": "code",
   "execution_count": 26,
   "metadata": {},
   "outputs": [
    {
     "name": "stdout",
     "output_type": "stream",
     "text": [
      "{'name': 'adil', 'roll_no': '123', 'course': 'software engineering', 'branch': 'islamabad'}\n"
     ]
    }
   ],
   "source": [
    "# update item\n",
    "b.update({\"branch\":\"islamabad\"})\n",
    "print(b)"
   ]
  },
  {
   "cell_type": "code",
   "execution_count": 27,
   "metadata": {},
   "outputs": [
    {
     "data": {
      "text/plain": [
       "'software engineering'"
      ]
     },
     "execution_count": 27,
     "metadata": {},
     "output_type": "execute_result"
    }
   ],
   "source": [
    "# pop() use to delete item from disctionary which return reverse \n",
    "b.pop(\"course\")"
   ]
  },
  {
   "cell_type": "code",
   "execution_count": 28,
   "metadata": {},
   "outputs": [
    {
     "name": "stdout",
     "output_type": "stream",
     "text": [
      "{'name': 'adil', 'roll_no': '123', 'branch': 'islamabad'}\n"
     ]
    }
   ],
   "source": [
    "print(b)"
   ]
  },
  {
   "cell_type": "code",
   "execution_count": 29,
   "metadata": {},
   "outputs": [
    {
     "data": {
      "text/plain": [
       "('branch', 'islamabad')"
      ]
     },
     "execution_count": 29,
     "metadata": {},
     "output_type": "execute_result"
    }
   ],
   "source": [
    "#popitem() it will remove the recently insert item\n",
    "b.popitem()"
   ]
  },
  {
   "cell_type": "code",
   "execution_count": 30,
   "metadata": {},
   "outputs": [
    {
     "name": "stdout",
     "output_type": "stream",
     "text": [
      "{'name': 'adil', 'roll_no': '123'}\n"
     ]
    }
   ],
   "source": [
    "print(b)"
   ]
  },
  {
   "cell_type": "code",
   "execution_count": 31,
   "metadata": {},
   "outputs": [
    {
     "data": {
      "text/plain": [
       "'adil'"
      ]
     },
     "execution_count": 31,
     "metadata": {},
     "output_type": "execute_result"
    }
   ],
   "source": [
    "# get() is use to displaying corrsponding value\n",
    "b.get(\"name\")"
   ]
  },
  {
   "cell_type": "code",
   "execution_count": 32,
   "metadata": {},
   "outputs": [
    {
     "data": {
      "text/plain": [
       "'123'"
      ]
     },
     "execution_count": 32,
     "metadata": {},
     "output_type": "execute_result"
    }
   ],
   "source": [
    "b.get(\"roll_no\")"
   ]
  },
  {
   "cell_type": "raw",
   "metadata": {},
   "source": [
    "# from keys()\n",
    "two arregment\n",
    "key \n",
    "value \n",
    "\n"
   ]
  },
  {
   "cell_type": "code",
   "execution_count": 33,
   "metadata": {},
   "outputs": [
    {
     "data": {
      "text/plain": [
       "{'a': 0, '3': 0, 't': 0}"
      ]
     },
     "execution_count": 33,
     "metadata": {},
     "output_type": "execute_result"
    }
   ],
   "source": [
    "t=('a','3','t')\n",
    "v=0\n",
    "d.fromkeys(t,0)"
   ]
  },
  {
   "cell_type": "code",
   "execution_count": 34,
   "metadata": {},
   "outputs": [
    {
     "name": "stdout",
     "output_type": "stream",
     "text": [
      "{}\n"
     ]
    }
   ],
   "source": [
    "print(d)"
   ]
  },
  {
   "cell_type": "raw",
   "metadata": {},
   "source": [
    "\n",
    "#setdefault\n",
    "two arrgment\n",
    "1\n",
    "key\n",
    "2 value\n",
    "\n"
   ]
  },
  {
   "cell_type": "code",
   "execution_count": 37,
   "metadata": {},
   "outputs": [
    {
     "data": {
      "text/plain": [
       "'23'"
      ]
     },
     "execution_count": 37,
     "metadata": {},
     "output_type": "execute_result"
    }
   ],
   "source": [
    "d.setdefault(\"roll_no\",\"23\")"
   ]
  },
  {
   "cell_type": "code",
   "execution_count": 38,
   "metadata": {},
   "outputs": [
    {
     "name": "stdout",
     "output_type": "stream",
     "text": [
      "{'roll_no': '23'}\n"
     ]
    }
   ],
   "source": [
    "print(d)"
   ]
  },
  {
   "cell_type": "code",
   "execution_count": null,
   "metadata": {},
   "outputs": [],
   "source": []
  }
 ],
 "metadata": {
  "kernelspec": {
   "display_name": "Python 3",
   "language": "python",
   "name": "python3"
  },
  "language_info": {
   "codemirror_mode": {
    "name": "ipython",
    "version": 3
   },
   "file_extension": ".py",
   "mimetype": "text/x-python",
   "name": "python",
   "nbconvert_exporter": "python",
   "pygments_lexer": "ipython3",
   "version": "3.7.4"
  }
 },
 "nbformat": 4,
 "nbformat_minor": 2
}
