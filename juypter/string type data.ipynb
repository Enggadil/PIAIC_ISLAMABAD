{
 "cells": [
  {
   "cell_type": "markdown",
   "metadata": {},
   "source": [
    "# Assignment no 1\n",
    "## String type data\n",
    "### By Adil hussain\n",
    "### Roll No piaic 65323\n",
    "### Timing 9:00 AM  to 12:00 PM ( Bahria university Islamabad)\n",
    "\n",
    "\n"
   ]
  },
  {
   "cell_type": "code",
   "execution_count": 2,
   "metadata": {},
   "outputs": [
    {
     "data": {
      "text/plain": [
       "['__add__',\n",
       " '__class__',\n",
       " '__contains__',\n",
       " '__delattr__',\n",
       " '__dir__',\n",
       " '__doc__',\n",
       " '__eq__',\n",
       " '__format__',\n",
       " '__ge__',\n",
       " '__getattribute__',\n",
       " '__getitem__',\n",
       " '__getnewargs__',\n",
       " '__gt__',\n",
       " '__hash__',\n",
       " '__init__',\n",
       " '__init_subclass__',\n",
       " '__iter__',\n",
       " '__le__',\n",
       " '__len__',\n",
       " '__lt__',\n",
       " '__mod__',\n",
       " '__mul__',\n",
       " '__ne__',\n",
       " '__new__',\n",
       " '__reduce__',\n",
       " '__reduce_ex__',\n",
       " '__repr__',\n",
       " '__rmod__',\n",
       " '__rmul__',\n",
       " '__setattr__',\n",
       " '__sizeof__',\n",
       " '__str__',\n",
       " '__subclasshook__',\n",
       " 'capitalize',\n",
       " 'casefold',\n",
       " 'center',\n",
       " 'count',\n",
       " 'encode',\n",
       " 'endswith',\n",
       " 'expandtabs',\n",
       " 'find',\n",
       " 'format',\n",
       " 'format_map',\n",
       " 'index',\n",
       " 'isalnum',\n",
       " 'isalpha',\n",
       " 'isascii',\n",
       " 'isdecimal',\n",
       " 'isdigit',\n",
       " 'isidentifier',\n",
       " 'islower',\n",
       " 'isnumeric',\n",
       " 'isprintable',\n",
       " 'isspace',\n",
       " 'istitle',\n",
       " 'isupper',\n",
       " 'join',\n",
       " 'ljust',\n",
       " 'lower',\n",
       " 'lstrip',\n",
       " 'maketrans',\n",
       " 'partition',\n",
       " 'replace',\n",
       " 'rfind',\n",
       " 'rindex',\n",
       " 'rjust',\n",
       " 'rpartition',\n",
       " 'rsplit',\n",
       " 'rstrip',\n",
       " 'split',\n",
       " 'splitlines',\n",
       " 'startswith',\n",
       " 'strip',\n",
       " 'swapcase',\n",
       " 'title',\n",
       " 'translate',\n",
       " 'upper',\n",
       " 'zfill']"
      ]
     },
     "execution_count": 2,
     "metadata": {},
     "output_type": "execute_result"
    }
   ],
   "source": [
    "dir(str)"
   ]
  },
  {
   "cell_type": "code",
   "execution_count": 4,
   "metadata": {},
   "outputs": [
    {
     "name": "stdout",
     "output_type": "stream",
     "text": [
      "Hello_world\n",
      "hello_world\n",
      "hello_world\n",
      "3\n",
      "b'hello_world'\n",
      "True\n",
      "hello   _       world\n",
      "-1\n",
      "Hello world\n",
      "13 98\n",
      "0\n",
      "False\n",
      "False\n",
      "False\n",
      "False\n",
      "True\n",
      "True\n",
      "False\n",
      "True\n",
      "False\n",
      "False\n",
      "False\n",
      "Join: Xhello_worldYhello_worldZ\n",
      "hello_world\n",
      "hello_world\n",
      "('XY', 'Z', '')\n",
      "hello_world\n",
      "-1\n",
      "0\n",
      "('XY', 'Z', '')\n",
      "['XYZ']\n",
      "hello_world\n",
      "['XYZ']\n",
      "['XYZ']\n",
      "False\n",
      "hello_world\n",
      "HELLO_WORLD\n",
      "Hello_World\n",
      "HELLO_WORLD\n",
      "hello_world\n"
     ]
    }
   ],
   "source": [
    "Sample_Str=\"hello_world\"\n",
    "\n",
    "# .capitalize() turn first character of string into upper-case letter\n",
    "print(Sample_Str.capitalize())\n",
    "\n",
    "# .casefold() turns every character into lower-case letter\n",
    "print(Sample_Str.casefold())\n",
    "\n",
    "# .center(First Parameter : Adds equal amount of spaces on both left & right , \n",
    "#  Second Parameter Optional : Characters which are used for spacing)\n",
    "print(Sample_Str.center(10))\n",
    "\n",
    "# .count(Firsr Parameter : Substring , Second Parameter Optional : Start index for searching ,\n",
    "#  Third Parameter Optional : End index for searching) counts the times a substring occurs in a string\n",
    "print (Sample_Str.count(\"l\"))\n",
    "\n",
    "# .encode(First Parameter Optional  : encoding='' , Second Parameter Optional  : erros='')\n",
    "# Encodes our string in our specified encoding it is used for efficient storage by default utf-8 encoding is applied\n",
    "print (Sample_Str.encode())\n",
    "\n",
    "# .endswith(First Parameter : ending string to be checked , Second Parameter Optional : Start index for searching ,\n",
    "#  Third Parameter Optional : End index for searching) checks if our string ends with a certain substring or not\n",
    "print (Sample_Str.endswith('world'))\n",
    "\n",
    "# .expandtabs(First Parameter Optional  : tabsize multiples of values after which the next \\t will be present by default 8)\n",
    "#. used to replace \\t with white spaces\n",
    "Sample_Str2=\"hello\\t_\\tworld\"\n",
    "print (Sample_Str2.expandtabs())\n",
    "\n",
    "# .find(Firsr Parameter : Substring , Second Parameter Optional : Start index for searching ,\n",
    "#  Third Parameter Optional : End index for searching) used to find the lowest index on which the substring is present\n",
    "print(Sample_Str.find('Hello'))\n",
    "\n",
    "# .format (Any number of parameters which you want to concatinate in your string)\n",
    "Sample_Str3=\"Hello {}\"\n",
    "print(Sample_Str3.format(\"world\"))\n",
    "\n",
    "# .format_map(First Parameter : dictionary) used to apply formating on dictonaries\n",
    "Sample_D={'A':13,'J':98}\n",
    "print('{A} {J}'.format_map(Sample_D))\n",
    "\n",
    "# .index(Firsr Parameter : Substring , Second Parameter Optional : Start index for searching ,\n",
    "#  Third Parameter Optional : End index for searching) index gives an exception when it does not find the substring\n",
    "#  as compared to .find()\n",
    "print(Sample_Str.index('hello'))\n",
    "\n",
    "# is fucntions return either true or false by checking certain things in string they have the same syntax\n",
    "# but they check for diffrent things\n",
    "print(Sample_Str.isalnum()) # checks if string is aplha numeric\n",
    "print(Sample_Str.isalpha()) # checks if string has alphabets\n",
    "print(Sample_Str.isdecimal()) # checks if string is composed of decimal digits\n",
    "print(Sample_Str.isdigit()) # checks if string is composed of digits\n",
    "print(Sample_Str.isidentifier()) # checks if string is valid identifier (it doesn't start with numbers and don't have spaces)\n",
    "print(Sample_Str.islower()) # checks if string is in lowercase\n",
    "print(Sample_Str.isnumeric()) # checks if string is composed of numeric characters\n",
    "print(Sample_Str.isprintable()) #checks if the value is printable e.g. some ASCII characters are not printable\n",
    "print(Sample_Str.isspace()) #checks if the string is white space\n",
    "print(Sample_Str.istitle()) #checks if each word is starts with a  upper case letter followed by lowercase letters.\n",
    "print(Sample_Str.isupper()) # checks if string is in uppercase\n",
    "\n",
    "# .join(Firsr Parameter : string) it's used to concate the each chracter of the string with the second string basically\n",
    "# it gives us the cartesian product\n",
    "Sample_Str4=\"XYZ\"\n",
    "print('Join:', Sample_Str.join(Sample_Str4))\n",
    "\n",
    "#  .lower() converts all characters into lower case\n",
    "print(Sample_Str.lower())\n",
    "\n",
    "# .lstrip(First Parameter Optional : characters) Removes spaces from left\n",
    "print(Sample_Str.lstrip())\n",
    "\n",
    "# .partition(First Parameter : string) returns a tuple till the metioned string\n",
    "print(Sample_Str4.partition('Z'))\n",
    "\n",
    "# .replace(First Parameter : string to be replaced , Second Parameter : New string , \n",
    "# Third Parameter Optional : Number of times you want to replace the string)\n",
    "print(Sample_Str.replace(\"Hello\", \"Python\")) \n",
    "\n",
    "# .rfind(Firsr Parameter : Substring , Second Parameter Optional : Start index for searching ,\n",
    "#  Third Parameter Optional : End index for searching) used to find the highest index on which the substring is present\n",
    "print(Sample_Str.rfind('Hello'))\n",
    "\n",
    "# .rindex(Firsr Parameter : Substring , Second Parameter Optional : Start index for searching ,\n",
    "#  Third Parameter Optional : End index for searching) rindex gives an exception when it does not find the substring\n",
    "#  as compared to .rfind()\n",
    "print(Sample_Str.rindex('hello'))\n",
    "\n",
    "# .partition(First Parameter : string) returns a tuple till the metioned string from right\n",
    "print(Sample_Str4.partition('Z'))\n",
    "\n",
    "# .rsplit(First Parameter Optional : Seperator , Seond Parameter Optional : Limit) splits the string into list from right\n",
    "Sample_Str5 = \"A, B, C\"\n",
    "print(Sample_Str4.rsplit(\", \"))\n",
    "\n",
    "# .rstrip(First Parameter Optional : characters) Removes spaces from right\n",
    "print(Sample_Str.rstrip())\n",
    "\n",
    "# .split(First Parameter Optional : Seperator , Seond Parameter Optional : Limit) splits the string into list\n",
    "Sample_Str5 = \"A, B, C\"\n",
    "print(Sample_Str4.split(\", \"))\n",
    "\n",
    "# .splitlines(First Parameter Optional : Seperator) splits the lines into list\n",
    "Sample_Str6 = \"Hello\\nWorld\"\n",
    "print(Sample_Str4.split(\", \"))\n",
    "\n",
    "# .startswith(First Parameter  : substring) tells if the string starts from a certain substring or not\n",
    "print(Sample_Str.startswith(\"He\"))\n",
    "\n",
    "# .strip(First Parameter  : substring) removes a substring from the whole string\n",
    "print(Sample_Str.strip(\"_\"))\n",
    "\n",
    "# .swapcase() changes the case of the string\n",
    "print(Sample_Str.swapcase())\n",
    "\n",
    "# .title() converts a string into title having first character as upper case and other as lower case\n",
    "print(Sample_Str.title())\n",
    "\n",
    "#  .upper() converts all characters into upper case\n",
    "print(Sample_Str.upper())\n",
    "\n",
    "#.zfill(First Parameter  : length) Adds zero till the string is of the given length\n",
    "print(Sample_Str.zfill(10))"
   ]
  },
  {
   "cell_type": "markdown",
   "metadata": {},
   "source": [
    "# variable for string and variable for number\n"
   ]
  },
  {
   "cell_type": "code",
   "execution_count": 8,
   "metadata": {},
   "outputs": [
    {
     "name": "stdout",
     "output_type": "stream",
     "text": [
      "10\n"
     ]
    }
   ],
   "source": [
    "a=10 # 'a' is the variable name '=' is the assigment operator '10' is the integer value\n",
    "print(a)"
   ]
  },
  {
   "cell_type": "code",
   "execution_count": 9,
   "metadata": {},
   "outputs": [
    {
     "name": "stdout",
     "output_type": "stream",
     "text": [
      "10.6\n"
     ]
    }
   ],
   "source": [
    "a=10.6 # in this statement the value of 'a ' is overriding\n",
    "print(a)"
   ]
  },
  {
   "cell_type": "markdown",
   "metadata": {},
   "source": [
    "# how to check data type of any variable \n",
    "## to check data type you need to use type key word"
   ]
  },
  {
   "cell_type": "code",
   "execution_count": 12,
   "metadata": {},
   "outputs": [
    {
     "data": {
      "text/plain": [
       "int"
      ]
     },
     "execution_count": 12,
     "metadata": {},
     "output_type": "execute_result"
    }
   ],
   "source": [
    "type(12)\n"
   ]
  },
  {
   "cell_type": "code",
   "execution_count": 14,
   "metadata": {},
   "outputs": [
    {
     "data": {
      "text/plain": [
       "str"
      ]
     },
     "execution_count": 14,
     "metadata": {},
     "output_type": "execute_result"
    }
   ],
   "source": [
    "type(\"adil\")"
   ]
  },
  {
   "cell_type": "code",
   "execution_count": 16,
   "metadata": {},
   "outputs": [
    {
     "data": {
      "text/plain": [
       "float"
      ]
     },
     "execution_count": 16,
     "metadata": {},
     "output_type": "execute_result"
    }
   ],
   "source": [
    "type(12.7)"
   ]
  },
  {
   "cell_type": "code",
   "execution_count": 22,
   "metadata": {},
   "outputs": [
    {
     "name": "stdout",
     "output_type": "stream",
     "text": [
      "adil   ghalam murtaza\n"
     ]
    }
   ],
   "source": [
    "s_name=\"adil\"\n",
    "f_name=\"ghalam murtaza\"\n",
    "type(s_name+\"   \"+f_name)\n",
    "print(s_name+\"   \"+f_name)\n",
    "\n"
   ]
  },
  {
   "cell_type": "markdown",
   "metadata": {},
   "source": [
    "# operator in python\n",
    "## there are four gerenal operator used in python\n",
    "### +,-,*,/, are the basic operator used in python"
   ]
  },
  {
   "cell_type": "code",
   "execution_count": 26,
   "metadata": {},
   "outputs": [
    {
     "name": "stdout",
     "output_type": "stream",
     "text": [
      "-355.5\n"
     ]
    }
   ],
   "source": [
    "v1=100\n",
    "v2=455.5\n",
    "sum=v1-v2\n",
    "type(sum)\n",
    "print(sum)"
   ]
  },
  {
   "cell_type": "code",
   "execution_count": 29,
   "metadata": {},
   "outputs": [
    {
     "name": "stdout",
     "output_type": "stream",
     "text": [
      "0.21953896816684962\n"
     ]
    }
   ],
   "source": [
    "div=v1/v2\n",
    "type(div) # python  by default use floating point divion\n",
    "\n",
    "print(div)\n"
   ]
  },
  {
   "cell_type": "code",
   "execution_count": 33,
   "metadata": {},
   "outputs": [
    {
     "name": "stdout",
     "output_type": "stream",
     "text": [
      "2\n"
     ]
    }
   ],
   "source": [
    "# if we need to print int type value we use double // to print int type value \n",
    "v1=2\n",
    "v2=5\n",
    "div=v2//v1\n",
    "print(div)"
   ]
  },
  {
   "cell_type": "code",
   "execution_count": 36,
   "metadata": {},
   "outputs": [
    {
     "name": "stdout",
     "output_type": "stream",
     "text": [
      "233\n"
     ]
    }
   ],
   "source": [
    "# in string data type '+' operator not addition operator but concatenation\n",
    "a=\"23\"\n",
    "b=\"3\"\n",
    "print(a+b)\n"
   ]
  },
  {
   "cell_type": "markdown",
   "metadata": {},
   "source": [
    "# if statement block"
   ]
  },
  {
   "cell_type": "code",
   "execution_count": 48,
   "metadata": {},
   "outputs": [
    {
     "name": "stdout",
     "output_type": "stream",
     "text": [
      "we are kashmiri\n"
     ]
    }
   ],
   "source": [
    "a=100\n",
    "b=60\n",
    "if a<b: \n",
    "    print(\"hello world\")\n",
    "    print(a)\n",
    "    print(\"we are pakistani\")\n",
    "    print(\"we love pakistan\")\n",
    "if b<a:\n",
    "    print(\"we are kashmiri\")"
   ]
  },
  {
   "cell_type": "markdown",
   "metadata": {},
   "source": [
    "# comments\n"
   ]
  },
  {
   "cell_type": "code",
   "execution_count": 49,
   "metadata": {},
   "outputs": [],
   "source": [
    "# single line comment\n",
    "# multiline commment\n"
   ]
  },
  {
   "cell_type": "markdown",
   "metadata": {},
   "source": [
    "# user input\n"
   ]
  },
  {
   "cell_type": "code",
   "execution_count": null,
   "metadata": {},
   "outputs": [],
   "source": [
    "a=input(\"enter value for a\") \n",
    "print(a)"
   ]
  },
  {
   "cell_type": "markdown",
   "metadata": {},
   "source": [
    "# list"
   ]
  },
  {
   "cell_type": "code",
   "execution_count": null,
   "metadata": {},
   "outputs": [],
   "source": [
    "# how to use list in [python]\n",
    "# for list we use [] BREAKET\n",
    "\n"
   ]
  },
  {
   "cell_type": "code",
   "execution_count": null,
   "metadata": {},
   "outputs": [],
   "source": [
    "alist=[\"ali\",\"hamza\",\"baber\"]\n",
    "#index   0      1      2\n",
    "print(alist)\n",
    "\n",
    "\n",
    "\n",
    "\n"
   ]
  },
  {
   "cell_type": "code",
   "execution_count": null,
   "metadata": {},
   "outputs": [],
   "source": []
  },
  {
   "cell_type": "code",
   "execution_count": null,
   "metadata": {},
   "outputs": [],
   "source": [
    "city=['adoil','adil']\n",
    "city[1]"
   ]
  },
  {
   "cell_type": "markdown",
   "metadata": {},
   "source": [
    "# type of operator\n"
   ]
  }
 ],
 "metadata": {
  "kernelspec": {
   "display_name": "Python 3",
   "language": "python",
   "name": "python3"
  },
  "language_info": {
   "codemirror_mode": {
    "name": "ipython",
    "version": 3
   },
   "file_extension": ".py",
   "mimetype": "text/x-python",
   "name": "python",
   "nbconvert_exporter": "python",
   "pygments_lexer": "ipython3",
   "version": "3.7.3"
  }
 },
 "nbformat": 4,
 "nbformat_minor": 2
}
